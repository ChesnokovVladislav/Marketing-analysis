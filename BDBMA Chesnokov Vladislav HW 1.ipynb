{
 "cells": [
  {
   "cell_type": "code",
   "execution_count": 1,
   "id": "1c8432c0",
   "metadata": {},
   "outputs": [
    {
     "name": "stdout",
     "output_type": "stream",
     "text": [
      "Collecting bstrap\n",
      "  Downloading bstrap-0.0.9-py3-none-any.whl (6.6 kB)\n",
      "Installing collected packages: bstrap\n",
      "Successfully installed bstrap-0.0.9\n"
     ]
    }
   ],
   "source": [
    "!pip install bstrap\n",
    "import numpy as np\n",
    "import pandas as pd\n",
    "from scipy.stats import mannwhitneyu\n",
    "from bstrap import bootstrap"
   ]
  },
  {
   "cell_type": "code",
   "execution_count": 2,
   "id": "23b6c81b",
   "metadata": {},
   "outputs": [],
   "source": [
    "df = pd.read_csv('/Users/vladislavcesnokov/Desktop/rating.csv',sep = ';', encoding = 'cp1251')"
   ]
  },
  {
   "cell_type": "code",
   "execution_count": 3,
   "id": "3c3ed02e",
   "metadata": {},
   "outputs": [
    {
     "data": {
      "text/html": [
       "<div>\n",
       "<style scoped>\n",
       "    .dataframe tbody tr th:only-of-type {\n",
       "        vertical-align: middle;\n",
       "    }\n",
       "\n",
       "    .dataframe tbody tr th {\n",
       "        vertical-align: top;\n",
       "    }\n",
       "\n",
       "    .dataframe thead th {\n",
       "        text-align: right;\n",
       "    }\n",
       "</style>\n",
       "<table border=\"1\" class=\"dataframe\">\n",
       "  <thead>\n",
       "    <tr style=\"text-align: right;\">\n",
       "      <th></th>\n",
       "      <th>num</th>\n",
       "      <th>name_rus</th>\n",
       "      <th>rating_new</th>\n",
       "      <th>origin</th>\n",
       "      <th>genre</th>\n",
       "      <th>rating_old</th>\n",
       "      <th>qty_views</th>\n",
       "    </tr>\n",
       "  </thead>\n",
       "  <tbody>\n",
       "    <tr>\n",
       "      <th>0</th>\n",
       "      <td>1</td>\n",
       "      <td>Зеленая миля</td>\n",
       "      <td>9.1</td>\n",
       "      <td>США</td>\n",
       "      <td>фэнтези/ драма</td>\n",
       "      <td>8.9</td>\n",
       "      <td>692418</td>\n",
       "    </tr>\n",
       "    <tr>\n",
       "      <th>1</th>\n",
       "      <td>2</td>\n",
       "      <td>Побег из Шоушенка</td>\n",
       "      <td>9.1</td>\n",
       "      <td>США</td>\n",
       "      <td>драма</td>\n",
       "      <td>8.9</td>\n",
       "      <td>784326</td>\n",
       "    </tr>\n",
       "    <tr>\n",
       "      <th>2</th>\n",
       "      <td>3</td>\n",
       "      <td>Властелин колец: Возвращение короля</td>\n",
       "      <td>8.6</td>\n",
       "      <td>Новая Зеландия/ США</td>\n",
       "      <td>фэнтези/ приключения</td>\n",
       "      <td>8.8</td>\n",
       "      <td>481829</td>\n",
       "    </tr>\n",
       "    <tr>\n",
       "      <th>3</th>\n",
       "      <td>4</td>\n",
       "      <td>Властелин колец: Две крепости</td>\n",
       "      <td>8.6</td>\n",
       "      <td>Новая Зеландия/ США</td>\n",
       "      <td>фэнтези/ приключения</td>\n",
       "      <td>8.8</td>\n",
       "      <td>467607</td>\n",
       "    </tr>\n",
       "    <tr>\n",
       "      <th>4</th>\n",
       "      <td>5</td>\n",
       "      <td>Властелин колец: Братство Кольца</td>\n",
       "      <td>8.6</td>\n",
       "      <td>Новая Зеландия/ США</td>\n",
       "      <td>фэнтези/ приключения</td>\n",
       "      <td>8.8</td>\n",
       "      <td>516856</td>\n",
       "    </tr>\n",
       "  </tbody>\n",
       "</table>\n",
       "</div>"
      ],
      "text/plain": [
       "   num                             name_rus  rating_new               origin  \\\n",
       "0    1                         Зеленая миля         9.1                  США   \n",
       "1    2                    Побег из Шоушенка         9.1                  США   \n",
       "2    3  Властелин колец: Возвращение короля         8.6  Новая Зеландия/ США   \n",
       "3    4        Властелин колец: Две крепости         8.6  Новая Зеландия/ США   \n",
       "4    5     Властелин колец: Братство Кольца         8.6  Новая Зеландия/ США   \n",
       "\n",
       "                  genre  rating_old  qty_views  \n",
       "0        фэнтези/ драма         8.9     692418  \n",
       "1                 драма         8.9     784326  \n",
       "2  фэнтези/ приключения         8.8     481829  \n",
       "3  фэнтези/ приключения         8.8     467607  \n",
       "4  фэнтези/ приключения         8.8     516856  "
      ]
     },
     "execution_count": 3,
     "metadata": {},
     "output_type": "execute_result"
    }
   ],
   "source": [
    "df.head()"
   ]
  },
  {
   "cell_type": "markdown",
   "id": "71c75f12",
   "metadata": {},
   "source": [
    "Let's examine the data to see if there are any null values and if the column format is correct "
   ]
  },
  {
   "cell_type": "code",
   "execution_count": 4,
   "id": "0e11dbfb",
   "metadata": {},
   "outputs": [
    {
     "name": "stdout",
     "output_type": "stream",
     "text": [
      "<class 'pandas.core.frame.DataFrame'>\n",
      "RangeIndex: 250 entries, 0 to 249\n",
      "Data columns (total 7 columns):\n",
      " #   Column      Non-Null Count  Dtype  \n",
      "---  ------      --------------  -----  \n",
      " 0   num         250 non-null    int64  \n",
      " 1   name_rus    250 non-null    object \n",
      " 2   rating_new  250 non-null    float64\n",
      " 3   origin      250 non-null    object \n",
      " 4   genre       250 non-null    object \n",
      " 5   rating_old  250 non-null    float64\n",
      " 6   qty_views   250 non-null    int64  \n",
      "dtypes: float64(2), int64(2), object(3)\n",
      "memory usage: 13.8+ KB\n"
     ]
    }
   ],
   "source": [
    "df.info()"
   ]
  },
  {
   "cell_type": "markdown",
   "id": "510e0eab",
   "metadata": {},
   "source": [
    "Now we analyze summary statistics"
   ]
  },
  {
   "cell_type": "code",
   "execution_count": 5,
   "id": "36c85851",
   "metadata": {},
   "outputs": [
    {
     "data": {
      "text/html": [
       "<div>\n",
       "<style scoped>\n",
       "    .dataframe tbody tr th:only-of-type {\n",
       "        vertical-align: middle;\n",
       "    }\n",
       "\n",
       "    .dataframe tbody tr th {\n",
       "        vertical-align: top;\n",
       "    }\n",
       "\n",
       "    .dataframe thead th {\n",
       "        text-align: right;\n",
       "    }\n",
       "</style>\n",
       "<table border=\"1\" class=\"dataframe\">\n",
       "  <thead>\n",
       "    <tr style=\"text-align: right;\">\n",
       "      <th></th>\n",
       "      <th>num</th>\n",
       "      <th>rating_new</th>\n",
       "      <th>rating_old</th>\n",
       "      <th>qty_views</th>\n",
       "    </tr>\n",
       "  </thead>\n",
       "  <tbody>\n",
       "    <tr>\n",
       "      <th>count</th>\n",
       "      <td>250.000000</td>\n",
       "      <td>250.000000</td>\n",
       "      <td>250.000000</td>\n",
       "      <td>2.500000e+02</td>\n",
       "    </tr>\n",
       "    <tr>\n",
       "      <th>mean</th>\n",
       "      <td>125.500000</td>\n",
       "      <td>8.184400</td>\n",
       "      <td>8.179600</td>\n",
       "      <td>2.893783e+05</td>\n",
       "    </tr>\n",
       "    <tr>\n",
       "      <th>std</th>\n",
       "      <td>72.312977</td>\n",
       "      <td>0.272643</td>\n",
       "      <td>0.193114</td>\n",
       "      <td>1.868284e+05</td>\n",
       "    </tr>\n",
       "    <tr>\n",
       "      <th>min</th>\n",
       "      <td>1.000000</td>\n",
       "      <td>7.600000</td>\n",
       "      <td>8.000000</td>\n",
       "      <td>2.005600e+04</td>\n",
       "    </tr>\n",
       "    <tr>\n",
       "      <th>25%</th>\n",
       "      <td>63.250000</td>\n",
       "      <td>8.000000</td>\n",
       "      <td>8.000000</td>\n",
       "      <td>1.450212e+05</td>\n",
       "    </tr>\n",
       "    <tr>\n",
       "      <th>50%</th>\n",
       "      <td>125.500000</td>\n",
       "      <td>8.100000</td>\n",
       "      <td>8.100000</td>\n",
       "      <td>2.516295e+05</td>\n",
       "    </tr>\n",
       "    <tr>\n",
       "      <th>75%</th>\n",
       "      <td>187.750000</td>\n",
       "      <td>8.300000</td>\n",
       "      <td>8.300000</td>\n",
       "      <td>4.053790e+05</td>\n",
       "    </tr>\n",
       "    <tr>\n",
       "      <th>max</th>\n",
       "      <td>250.000000</td>\n",
       "      <td>9.100000</td>\n",
       "      <td>8.900000</td>\n",
       "      <td>1.303016e+06</td>\n",
       "    </tr>\n",
       "  </tbody>\n",
       "</table>\n",
       "</div>"
      ],
      "text/plain": [
       "              num  rating_new  rating_old     qty_views\n",
       "count  250.000000  250.000000  250.000000  2.500000e+02\n",
       "mean   125.500000    8.184400    8.179600  2.893783e+05\n",
       "std     72.312977    0.272643    0.193114  1.868284e+05\n",
       "min      1.000000    7.600000    8.000000  2.005600e+04\n",
       "25%     63.250000    8.000000    8.000000  1.450212e+05\n",
       "50%    125.500000    8.100000    8.100000  2.516295e+05\n",
       "75%    187.750000    8.300000    8.300000  4.053790e+05\n",
       "max    250.000000    9.100000    8.900000  1.303016e+06"
      ]
     },
     "execution_count": 5,
     "metadata": {},
     "output_type": "execute_result"
    }
   ],
   "source": [
    "df.describe()"
   ]
  },
  {
   "cell_type": "markdown",
   "id": "8f16fe4c",
   "metadata": {},
   "source": [
    "We see that the means and median values seem to be similar in old and new ratings "
   ]
  },
  {
   "cell_type": "markdown",
   "id": "c01b1a56",
   "metadata": {},
   "source": [
    "## Mann – Whitney U-test for total sample"
   ]
  },
  {
   "cell_type": "markdown",
   "id": "30f6d53a",
   "metadata": {},
   "source": [
    "Now we conduct Mann – Whitney U-test to find out if there's a difference in cumulitive sum of rankings between these two types of ratings. <br>We reject null hypothesis when the confidence interval is less than 95%"
   ]
  },
  {
   "cell_type": "code",
   "execution_count": 23,
   "id": "4c288e06",
   "metadata": {},
   "outputs": [
    {
     "data": {
      "text/plain": [
       "MannwhitneyuResult(statistic=31175.5, pvalue=0.9629567921262221)"
      ]
     },
     "execution_count": 23,
     "metadata": {},
     "output_type": "execute_result"
    }
   ],
   "source": [
    "mannwhitneyu(df['rating_new'],df['rating_old'])"
   ]
  },
  {
   "cell_type": "markdown",
   "id": "1fb9246b",
   "metadata": {},
   "source": [
    "We see that the p value is more than 0.05, meaning that the null hypothesis is validated and the ratings are the same for the general top-250 sample"
   ]
  },
  {
   "cell_type": "markdown",
   "id": "3d371275",
   "metadata": {},
   "source": [
    "## Mann – Whitney U-test for different genres and countries"
   ]
  },
  {
   "cell_type": "markdown",
   "id": "ab6bae74",
   "metadata": {},
   "source": [
    "Now we conduct the same test for the different countries and genres. First, we select top-2 countries and genres by the number of records and compare them to their previous ratings"
   ]
  },
  {
   "cell_type": "code",
   "execution_count": 8,
   "id": "8ec9d96d",
   "metadata": {
    "scrolled": true
   },
   "outputs": [
    {
     "data": {
      "text/plain": [
       "{'США': 110, 'СССР': 31}"
      ]
     },
     "execution_count": 8,
     "metadata": {},
     "output_type": "execute_result"
    }
   ],
   "source": [
    "top_countries = dict(df['origin'].value_counts().head(2))\n",
    "top_countries "
   ]
  },
  {
   "cell_type": "code",
   "execution_count": 9,
   "id": "7c684bc9",
   "metadata": {
    "scrolled": true
   },
   "outputs": [
    {
     "data": {
      "text/plain": [
       "{'фантастика/ боевик': 19, 'мультфильм/ фэнтези': 13}"
      ]
     },
     "execution_count": 9,
     "metadata": {},
     "output_type": "execute_result"
    }
   ],
   "source": [
    "top_genres = dict(df['genre'].value_counts().head(2))\n",
    "top_genres"
   ]
  },
  {
   "cell_type": "markdown",
   "id": "4f9c0262",
   "metadata": {},
   "source": [
    "<br>We see that the highest portion of films in top-250 are made in USA and USSR. The most popular genres are action and animation. <br> Now we will analyze the difference between rakning sums for USSR and USA films"
   ]
  },
  {
   "cell_type": "code",
   "execution_count": 54,
   "id": "81b0a68e",
   "metadata": {},
   "outputs": [
    {
     "name": "stdout",
     "output_type": "stream",
     "text": [
      "p.value for США is 0.3718029670954922, U is 5634.0\n",
      "\n",
      "p.value for СССР is 0.007358118927667391, U is 669.0\n",
      "\n"
     ]
    }
   ],
   "source": [
    "for country in top_countries.keys():\n",
    "    U, p = mannwhitneyu(df.loc[df['origin'] == country, 'rating_new'],\n",
    "             df.loc[df['origin'] == country, 'rating_old'])\n",
    "    print(f'p.value for {country} is {p}, U is {U}\\n')"
   ]
  },
  {
   "cell_type": "code",
   "execution_count": 55,
   "id": "32f4c556",
   "metadata": {},
   "outputs": [
    {
     "name": "stdout",
     "output_type": "stream",
     "text": [
      "p.value for фантастика/ боевик is 0.0787049093768963, U is 121.5\n",
      "\n",
      "p.value for мультфильм/ фэнтези is 0.25230756055185943, U is 62.0\n",
      "\n"
     ]
    }
   ],
   "source": [
    "for genre in top_genres.keys():\n",
    "    U, p = mannwhitneyu(df.loc[df['genre'] == genre, 'rating_new'],\n",
    "             df.loc[df['genre'] == genre, 'rating_old'])\n",
    "    print(f'p.value for {genre} is {p}, U is {U}\\n')"
   ]
  },
  {
   "cell_type": "markdown",
   "id": "5150c885",
   "metadata": {},
   "source": [
    "<br>There is no difference in rankings for films made in USA but there is a difference in films made in USSR. Since the previous votes in a new rating approach are not considered, we can assume that top-250 becomes more dependent on a new reviews that are likely to be made by newly registered users. We don't know the age of the new users, but we can assume that they are likely to be younger gerenation. Therefore, we can assume that this is caused by the emergence of new generations that percieve films made in USSR in a different way: these films might not cause nostalgia to them as they do towards the older generation. <br><br>However, we see no differnce in the action movie rating and animation ranking."
   ]
  },
  {
   "cell_type": "markdown",
   "id": "436cb535",
   "metadata": {},
   "source": [
    "## Bootstrapping"
   ]
  },
  {
   "attachments": {},
   "cell_type": "markdown",
   "id": "d1efad8d",
   "metadata": {},
   "source": [
    "We will check the consistency of mean equality using bootstrap. We will use the mean as the main metric to be tested for the difference in old and new rating system"
   ]
  },
  {
   "cell_type": "markdown",
   "id": "9d3465e1",
   "metadata": {},
   "source": [
    "General sample:"
   ]
  },
  {
   "cell_type": "code",
   "execution_count": 53,
   "id": "eea3bf4d",
   "metadata": {},
   "outputs": [
    {
     "name": "stdout",
     "output_type": "stream",
     "text": [
      "p.value for difference in means for general sample is 0.818\n",
      " old stats: \n",
      "{'avg_metric': 8.184381839999999, 'metric_ci_lb': 8.156799999999999, 'metric_ci_ub': 8.2128} \n",
      " new stats: \n",
      "{'avg_metric': 8.17955832, 'metric_ci_lb': 8.159999999999998, 'metric_ci_ub': 8.1996} \n",
      "\n",
      "\n"
     ]
    }
   ],
   "source": [
    "stats_old, stats_new, p = bootstrap(np.mean, df['rating_new'],\n",
    "                                    df['rating_old'], nbr_runs=10**4)\n",
    "print(f'p.value for difference in means for general sample is {p}\\n old stats: \\n{stats_old} \\n new stats: \\n{stats_new} \\n\\n')"
   ]
  },
  {
   "cell_type": "markdown",
   "id": "627ad0a8",
   "metadata": {},
   "source": [
    "USSR and USA films:"
   ]
  },
  {
   "cell_type": "code",
   "execution_count": 52,
   "id": "3c94db8c",
   "metadata": {},
   "outputs": [
    {
     "name": "stdout",
     "output_type": "stream",
     "text": [
      "p.value for difference in means for США is 0.5209\n",
      " old stats: \n",
      "{'avg_metric': 8.15625009090909, 'metric_ci_lb': 8.11090909090909, 'metric_ci_ub': 8.201818181818183} \n",
      " new stats: \n",
      "{'avg_metric': 8.177100363636365, 'metric_ci_lb': 8.148181818181818, 'metric_ci_ub': 8.207272727272727} \n",
      "\n",
      "\n",
      "p.value for difference in means for СССР is 0.0035\n",
      " old stats: \n",
      "{'avg_metric': 8.377486451612903, 'metric_ci_lb': 8.325806451612904, 'metric_ci_ub': 8.432258064516128} \n",
      " new stats: \n",
      "{'avg_metric': 8.238636451612903, 'metric_ci_lb': 8.187096774193547, 'metric_ci_ub': 8.290322580645164} \n",
      "\n",
      "\n"
     ]
    }
   ],
   "source": [
    "for country in top_countries.keys():\n",
    "    stats_old, stats_new, p = bootstrap(np.mean, df.loc[df['origin'] == country, 'rating_new'],\n",
    "                                              df.loc[df['origin'] == country, 'rating_old'], nbr_runs=10**4)\n",
    "    print(f'p.value for difference in means for {country} is {p}\\n old stats: \\n{stats_old} \\n new stats: \\n{stats_new} \\n\\n')"
   ]
  },
  {
   "cell_type": "markdown",
   "id": "4af4a16b",
   "metadata": {},
   "source": [
    "Action and Animation films:"
   ]
  },
  {
   "cell_type": "code",
   "execution_count": 51,
   "id": "990f9f1a",
   "metadata": {},
   "outputs": [
    {
     "name": "stdout",
     "output_type": "stream",
     "text": [
      "p.value for difference in means for фантастика/ боевик is 0.1656\n",
      " old stats: \n",
      "{'avg_metric': 8.06397052631579, 'metric_ci_lb': 7.963157894736841, 'metric_ci_ub': 8.173684210526314} \n",
      " new stats: \n",
      "{'avg_metric': 8.168303684210526, 'metric_ci_lb': 8.110526315789473, 'metric_ci_ub': 8.23157894736842} \n",
      "\n",
      "\n",
      "p.value for difference in means for мультфильм/ фэнтези is 0.2687\n",
      " old stats: \n",
      "{'avg_metric': 8.108414615384614, 'metric_ci_lb': 8.007692307692308, 'metric_ci_ub': 8.215384615384615} \n",
      " new stats: \n",
      "{'avg_metric': 8.199968461538461, 'metric_ci_lb': 8.12307692307692, 'metric_ci_ub': 8.284615384615384} \n",
      "\n",
      "\n"
     ]
    }
   ],
   "source": [
    "for genre in top_genres.keys():\n",
    "    stats_old, stats_new, p = bootstrap(np.mean, df.loc[df['genre'] == genre, 'rating_new'],\n",
    "                                              df.loc[df['genre'] == genre, 'rating_old'], nbr_runs=10**4)\n",
    "    print(f'p.value for difference in means for {genre} is {p}\\n old stats: \\n{stats_old} \\n new stats: \\n{stats_new} \\n\\n')"
   ]
  },
  {
   "cell_type": "markdown",
   "id": "87a91100",
   "metadata": {},
   "source": [
    "We see that the bootstrap remains consistent with the results of Mann – Whitney U-test, meaning that the results we achieved are statistically significant"
   ]
  },
  {
   "cell_type": "markdown",
   "id": "65046696",
   "metadata": {},
   "source": [
    "1. USA films have the same rating both in new and old versions of rating, while USSR changed its ratings and the new rating is smaller than it was before, thus showing us the change in users' perseption of USSR films in 2022\n",
    "2. Action and animation do not have statiscitally significant difference in a new ranking system"
   ]
  }
 ],
 "metadata": {
  "kernelspec": {
   "display_name": "Python [conda env:sparkles] *",
   "language": "python",
   "name": "conda-env-sparkles-py"
  },
  "language_info": {
   "codemirror_mode": {
    "name": "ipython",
    "version": 3
   },
   "file_extension": ".py",
   "mimetype": "text/x-python",
   "name": "python",
   "nbconvert_exporter": "python",
   "pygments_lexer": "ipython3",
   "version": "3.9.12"
  }
 },
 "nbformat": 4,
 "nbformat_minor": 5
}
